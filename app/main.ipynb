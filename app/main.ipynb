{
 "cells": [
  {
   "cell_type": "code",
   "execution_count": null,
   "id": "8e6433f1",
   "metadata": {},
   "outputs": [],
   "source": [
    "from typing import List\n",
    "from time import time\n",
    "from fastapi import Depends, FastAPI, Body,Response,HTTPException,status\n",
    "from psycopg2 import connect\n",
    "from psycopg2 import OperationalError\n",
    "from psycopg2.extras import RealDictCursor\n",
    "from sqlalchemy.orm import Session\n",
    "from db.database import Base, engine, get_db\n",
    "from db import model \n",
    "from schema import schema"
   ]
  },
  {
   "cell_type": "code",
   "execution_count": null,
   "id": "9ca0baa3",
   "metadata": {},
   "outputs": [],
   "source": [
    "app = FastAPI()\n",
    "Base.metadata.create_all(bind=engine)"
   ]
  },
  {
   "cell_type": "code",
   "execution_count": null,
   "id": "a05f3e28",
   "metadata": {},
   "outputs": [],
   "source": [
    "while True:\n",
    "    try:\n",
    "        conn =connect(user=\"user_test\", password=\"123456\",database=\"fastapi\",\n",
    "                                host=\"localhost\", cursor_factory=RealDictCursor)\n",
    "        cursor = conn.cursor()\n",
    "        print(\"connection to database successfully.\")\n",
    "        break\n",
    "    except OperationalError as e :\n",
    "       print(\"connection to database failed.\\nerorr:\",e)\n",
    "       time.sleep(2)"
   ]
  },
  {
   "cell_type": "code",
   "execution_count": null,
   "id": "aff53fb7",
   "metadata": {},
   "outputs": [],
   "source": [
    "#get \n",
    "@app.get(\"/posts/\",response_model=List[schema.Post])\n",
    "def get_posts(db: Session=Depends(get_db)):\n",
    "   posts = db.query(model.Post).all()\n",
    "   return posts"
   ]
  },
  {
   "cell_type": "code",
   "execution_count": null,
   "id": "af585711",
   "metadata": {},
   "outputs": [],
   "source": [
    "#get one \n",
    "@app.get(\"/posts/{id_}\",response_model=schema.Post)\n",
    "def get_post(id_:int,response:Response,db: Session=Depends(get_db)):\n",
    "    post = db.query(model.Post).filter(model.Post.id == id_).first()\n",
    "    if not post : \n",
    "        raise HTTPException(status_code=status.HTTP_404_NOT_FOUND,\n",
    "                            detail=f\"post with id {id_} was not found.\")\n",
    "    return post"
   ]
  },
  {
   "cell_type": "code",
   "execution_count": null,
   "id": "85f5497c",
   "metadata": {},
   "outputs": [],
   "source": [
    "#create\n",
    "@app.post(\"/posts/\",status_code=status.HTTP_201_CREATED)\n",
    "def create_posts(post:schema.PostCreate=Body(...),db:\n",
    "                  Session=Depends(get_db))->schema.Post:\n",
    "    post_dict = post.model_dump()\n",
    "    post_created = model.Post(**post_dict)\n",
    "    db.add(post_created)\n",
    "    db.commit()\n",
    "    db.refresh(post_created)\n",
    "    return post_created"
   ]
  },
  {
   "cell_type": "code",
   "execution_count": null,
   "id": "fa080d92",
   "metadata": {},
   "outputs": [],
   "source": [
    "#delete \n",
    "@app.delete(\"/posts/{id_}\")\n",
    "def delete_post(id_ : int,db : Session=Depends(get_db)):\n",
    "    post_deleted = db.query(model.Post).filter(model.Post.id == id_).first()\n",
    "    # post_deleted = post_delete_query.first()\n",
    "    if not post_deleted:\n",
    "        raise HTTPException(status_code=status.HTTP_404_NOT_FOUND,\n",
    "                            detail=f\"post with id {id_} was not found.\")\n",
    "    # post_delete_query.delete(synchronize_session=False)\n",
    "    db.delete(post_deleted)\n",
    "    db.commit()\n",
    "    return Response(status_code=status.HTTP_204_NO_CONTENT) "
   ]
  },
  {
   "cell_type": "code",
   "execution_count": null,
   "id": "17d682bc",
   "metadata": {},
   "outputs": [],
   "source": [
    "#update\n",
    "@app.put(\"/posts/{id_}\")\n",
    "def update_post(id_:int,post_updated:schema.PostCreate, db : Session = Depends(get_db))->schema.Post:\n",
    "    #find post index\n",
    "    post_update_query = db.query(model.Post).filter(model.Post.id==id_)\n",
    "    post = post_update_query.first()\n",
    "    # exception handling\n",
    "    if not post :\n",
    "        raise HTTPException(status_code=status.HTTP_404_NOT_FOUND,\n",
    "                            detail=f\"post with id {id_} not found\") \n",
    "    post_update_query.update(post_updated.model_dump())\n",
    "    db.commit()\n",
    "    db.refresh(post)\n",
    "    return post "
   ]
  }
 ],
 "metadata": {
  "kernelspec": {
   "display_name": "learning_deployment",
   "language": "python",
   "name": "python3"
  },
  "language_info": {
   "codemirror_mode": {
    "name": "ipython",
    "version": 3
   },
   "file_extension": ".py",
   "mimetype": "text/x-python",
   "name": "python",
   "nbconvert_exporter": "python",
   "pygments_lexer": "ipython3",
   "version": "3.9.21"
  }
 },
 "nbformat": 4,
 "nbformat_minor": 5
}
